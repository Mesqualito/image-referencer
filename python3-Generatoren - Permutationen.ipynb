{
 "cells": [
  {
   "cell_type": "code",
   "execution_count": null,
   "metadata": {},
   "outputs": [],
   "source": [
    "# siehe: https://www.python-kurs.eu/python3_generatoren.php"
   ]
  },
  {
   "cell_type": "code",
   "execution_count": null,
   "metadata": {},
   "outputs": [],
   "source": [
    "# für die Anzahl möglicher Permutationen von n Elementen gilt:\n",
    "# n! = n*(n-1)*(n-2) ... 2 * 1"
   ]
  },
  {
   "cell_type": "code",
   "execution_count": 8,
   "metadata": {},
   "outputs": [
    {
     "name": "stdout",
     "output_type": "stream",
     "text": [
      "red\n",
      "rde\n",
      "erd\n",
      "edr\n",
      "dre\n",
      "der\n",
      "\n",
      "game\n",
      "gaem\n",
      "gmae\n",
      "gmea\n",
      "geam\n",
      "gema\n",
      "agme\n",
      "agem\n",
      "amge\n",
      "ameg\n",
      "aegm\n",
      "aemg\n",
      "mgae\n",
      "mgea\n",
      "mage\n",
      "maeg\n",
      "mega\n",
      "meag\n",
      "egam\n",
      "egma\n",
      "eagm\n",
      "eamg\n",
      "emga\n",
      "emag\n"
     ]
    }
   ],
   "source": [
    "def permutations(items):\n",
    "    n = len(items)\n",
    "    if n==0: yield []\n",
    "    else:\n",
    "        for i in range(len(items)):\n",
    "            for cc in permutations(items[:i] + items[i+1:]):\n",
    "                yield [items[i]]+cc\n",
    "                \n",
    "for p in permutations(['r', 'e', 'd']): print(''.join(p))\n",
    "print(\"\")\n",
    "for p in permutations(list(\"game\")): print(''.join(p), end=\"\\n\")"
   ]
  },
  {
   "cell_type": "code",
   "execution_count": null,
   "metadata": {},
   "outputs": [],
   "source": [
    "# Rekursiver Generator, der Variationen ohne Wiederholungen erzeugt.\n",
    "# Bei einer Variation ohne Wiederholung werden k von n Objekten (wobei k<=n gilt) so auf k Plätze verteilt,\n",
    "# dass jedes Objekt nur höchstens einen Platz einnimmt. Für den ersten Platz gibt es n Möglichkeiten,\n",
    "# für den zweiten n-1, für den dritten n-2 bis zum k-ten Platz für den des dann noch n-k+1 Plätze gibt.\n",
    "\n",
    "# Allgemein: n! / (n-k)!"
   ]
  },
  {
   "cell_type": "code",
   "execution_count": 3,
   "metadata": {},
   "outputs": [
    {
     "name": "stdout",
     "output_type": "stream",
     "text": [
      "['a', 'b', 'c']\n",
      "['a', 'b', 'd']\n",
      "['a', 'c', 'b']\n",
      "['a', 'c', 'd']\n",
      "['a', 'd', 'b']\n",
      "['a', 'd', 'c']\n",
      "['b', 'a', 'c']\n",
      "['b', 'a', 'd']\n",
      "['b', 'c', 'a']\n",
      "['b', 'c', 'd']\n",
      "['b', 'd', 'a']\n",
      "['b', 'd', 'c']\n",
      "['c', 'a', 'b']\n",
      "['c', 'a', 'd']\n",
      "['c', 'b', 'a']\n",
      "['c', 'b', 'd']\n",
      "['c', 'd', 'a']\n",
      "['c', 'd', 'b']\n",
      "['d', 'a', 'b']\n",
      "['d', 'a', 'c']\n",
      "['d', 'b', 'a']\n",
      "['d', 'b', 'c']\n",
      "['d', 'c', 'a']\n",
      "['d', 'c', 'b']\n"
     ]
    }
   ],
   "source": [
    "# Logik-Bug in python3-Updates??\n",
    "# Ergebnis verschieden zu https://www.python-kurs.eu/python3_generatoren.php !!\n",
    "\n",
    "def k_variations(items, n):\n",
    "    if n==0: \n",
    "        yield []\n",
    "    else:\n",
    "        for item in items:\n",
    "            for kp in k_variations(items, n-1):\n",
    "                if item not in kp:\n",
    "                    yield [item] + kp\n",
    "                    \n",
    "for kp in k_variations(\"abcd\", 3):\n",
    "    print(kp)"
   ]
  },
  {
   "cell_type": "code",
   "execution_count": null,
   "metadata": {},
   "outputs": [],
   "source": []
  }
 ],
 "metadata": {
  "kernelspec": {
   "display_name": "Python 3",
   "language": "python",
   "name": "python3"
  },
  "language_info": {
   "codemirror_mode": {
    "name": "ipython",
    "version": 3
   },
   "file_extension": ".py",
   "mimetype": "text/x-python",
   "name": "python",
   "nbconvert_exporter": "python",
   "pygments_lexer": "ipython3",
   "version": "3.7.6"
  }
 },
 "nbformat": 4,
 "nbformat_minor": 4
}
