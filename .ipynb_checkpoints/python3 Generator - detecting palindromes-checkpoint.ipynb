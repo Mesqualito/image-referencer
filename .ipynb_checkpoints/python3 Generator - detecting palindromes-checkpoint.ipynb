{
 "cells": [
  {
   "cell_type": "code",
   "execution_count": null,
   "metadata": {},
   "outputs": [],
   "source": [
    "# see: https://realpython.com/introduction-to-python-generators/\n",
    "# and: https://www.python-kurs.eu/python3_generatoren.php"
   ]
  },
  {
   "cell_type": "code",
   "execution_count": null,
   "metadata": {},
   "outputs": [],
   "source": [
    "from IPython.display import clear_output"
   ]
  },
  {
   "cell_type": "code",
   "execution_count": null,
   "metadata": {},
   "outputs": [],
   "source": [
    "def infinite_sequence():\n",
    "    num = 0\n",
    "    while True:\n",
    "        yield num\n",
    "        num += 1"
   ]
  },
  {
   "cell_type": "code",
   "execution_count": null,
   "metadata": {},
   "outputs": [],
   "source": [
    "def is_palindrome(num):\n",
    "    \n",
    "    # Skip single-digit inputs - with floor division operator\n",
    "    #\n",
    "    # In Python 3, the ordinary / division operator returns floating point values\n",
    "    # even if both operands are integers, so a different operator is needed for floor division\n",
    "    # // produces the floor of the quotient of its operands\n",
    "    # without floating-point rounding for integer operands\n",
    "    if num // 10 == 0:\n",
    "        return False\n",
    "    temp = num\n",
    "    reversed_num = 0\n",
    "\n",
    "    while temp != 0:\n",
    "        reversed_num = (reversed_num * 10) + (temp % 10)\n",
    "        temp = temp // 10\n",
    "\n",
    "    if num == reversed_num:\n",
    "        return num\n",
    "    else:\n",
    "        return False"
   ]
  },
  {
   "cell_type": "code",
   "execution_count": null,
   "metadata": {},
   "outputs": [],
   "source": [
    "for i in infinite_sequence():\n",
    "    pal = is_palindrome(i)\n",
    "    if pal:\n",
    "        clear_output(wait=True)\n",
    "        print(pal)"
   ]
  },
  {
   "cell_type": "code",
   "execution_count": null,
   "metadata": {},
   "outputs": [],
   "source": [
    "def is_palindrome_v2(num):\n",
    "    if num // 10 == 0:\n",
    "        return False\n",
    "    temp = num\n",
    "    reversed_num = 0\n",
    "    \n",
    "    while temp != 0:\n",
    "        reversed_num = (reversed_num * 10) + (temp % 10)\n",
    "        temp = temp // 10\n",
    "    \n",
    "    if num == reversed_num:\n",
    "        return True\n",
    "    else:\n",
    "        return False"
   ]
  },
  {
   "cell_type": "code",
   "execution_count": null,
   "metadata": {},
   "outputs": [],
   "source": [
    "def infinite_palindromes():\n",
    "    num = 0\n",
    "    while True:\n",
    "        if is_palindrome_v2(num):\n",
    "            # yield is an expression rather than a statement\n",
    "            # i takes the value that is yielded:\n",
    "            i = (yield num)\n",
    "            if i is not None:\n",
    "                num = i\n",
    "        num += 1"
   ]
  },
  {
   "cell_type": "code",
   "execution_count": null,
   "metadata": {},
   "outputs": [],
   "source": [
    "# how to use '.send()'\n",
    "\n",
    "pal_gen = infinite_palindromes()\n",
    "for i in pal_gen:\n",
    "    digits = len(str(i))\n",
    "    pal_gen.send(10 ** (digits))"
   ]
  },
  {
   "cell_type": "code",
   "execution_count": null,
   "metadata": {},
   "outputs": [],
   "source": [
    "# how to use '.throw()'\n",
    "# useful where an exception has to be caught\n",
    "\n",
    "pal_gen = infinite_palindromes()\n",
    "for i in pal_gen:\n",
    "    print(i)\n",
    "    digits = len(str(i))\n",
    "    if digits == 5:\n",
    "        pal_gen.throw(ValueError(\"We don't like large palindromes\"))\n",
    "    pal_gen.send(10 ** (digits))"
   ]
  },
  {
   "cell_type": "code",
   "execution_count": null,
   "metadata": {},
   "outputs": [],
   "source": [
    "# how to use '.close()' (more elegant than '.throw()'),\n",
    "# raises StopIteration, an exception used to signal the end of a finite iterator\n",
    "\n",
    "pal_gen = infinite_palindromes()\n",
    "for i in pal_gen:\n",
    "    print(i)\n",
    "    digits = len(str(i))\n",
    "    if digits == 5:\n",
    "        pal_gen.close()\n",
    "    pal_gen.send(10 ** (digits))"
   ]
  },
  {
   "cell_type": "code",
   "execution_count": null,
   "metadata": {},
   "outputs": [],
   "source": []
  }
 ],
 "metadata": {
  "kernelspec": {
   "display_name": "Python 3",
   "language": "python",
   "name": "python3"
  },
  "language_info": {
   "codemirror_mode": {
    "name": "ipython",
    "version": 3
   },
   "file_extension": ".py",
   "mimetype": "text/x-python",
   "name": "python",
   "nbconvert_exporter": "python",
   "pygments_lexer": "ipython3",
   "version": "3.7.6"
  }
 },
 "nbformat": 4,
 "nbformat_minor": 4
}
