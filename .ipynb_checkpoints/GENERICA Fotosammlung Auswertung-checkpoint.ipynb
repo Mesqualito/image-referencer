{
 "cells": [
  {
   "cell_type": "code",
   "execution_count": 1,
   "metadata": {},
   "outputs": [],
   "source": [
    "# source activate bigdata"
   ]
  },
  {
   "cell_type": "code",
   "execution_count": 2,
   "metadata": {},
   "outputs": [],
   "source": [
    "import sys\n",
    "import os\n",
    "import time\n",
    "import pandas as pd\n",
    "import json\n",
    "import shutil\n",
    "from functools import singledispatch"
   ]
  },
  {
   "cell_type": "code",
   "execution_count": 3,
   "metadata": {},
   "outputs": [
    {
     "name": "stdout",
     "output_type": "stream",
     "text": [
      "bigdata\n"
     ]
    }
   ],
   "source": [
    "print(os.environ['CONDA_DEFAULT_ENV'])"
   ]
  },
  {
   "cell_type": "code",
   "execution_count": 4,
   "metadata": {},
   "outputs": [
    {
     "name": "stdout",
     "output_type": "stream",
     "text": [
      "3.7.6\n"
     ]
    }
   ],
   "source": [
    "from platform import python_version\n",
    "\n",
    "print(python_version())"
   ]
  },
  {
   "cell_type": "code",
   "execution_count": 5,
   "metadata": {},
   "outputs": [],
   "source": [
    "from cryptography.fernet import Fernet \n",
    "import os \n",
    "  \n",
    "cred_filename = 'CredFile.ini'\n",
    "key_file = 'key.key'\n",
    "  \n",
    "key = '' \n",
    "  \n",
    "with open('.key.key','r') as key_in: \n",
    "    key = key_in.read().encode() \n",
    "  \n",
    "# If you want the Cred file to be of one  \n",
    "# time use uncomment the below line \n",
    "# s.remove(key_file) \n",
    "  \n",
    "f = Fernet(key) \n",
    "with open(cred_filename,'r') as cred_in: \n",
    "    lines = cred_in.readlines() \n",
    "    config = {} \n",
    "    for line in lines: \n",
    "        tuples = line.rstrip('\\n').split('=',1) \n",
    "        if tuples[0] in ('Username ','Password '): \n",
    "            config[tuples[0]] = tuples[1] \n",
    "  \n",
    "    usr_id = config['Username ']\n",
    "    passwrd = f.decrypt(config['Password '].encode()).decode()"
   ]
  },
  {
   "cell_type": "code",
   "execution_count": 6,
   "metadata": {},
   "outputs": [],
   "source": [
    "sys.path.append('../lib/pysmb-1.1.28/python3/')\n",
    "sys.path.append('../lib/iptcinfo3/')\n",
    "# del sys.path[-1]\n",
    "# sys.path"
   ]
  },
  {
   "cell_type": "code",
   "execution_count": 7,
   "metadata": {},
   "outputs": [],
   "source": [
    "from smb.SMBConnection import SMBConnection\n",
    "import tempfile\n",
    "from iptcinfo3 import IPTCInfo"
   ]
  },
  {
   "cell_type": "code",
   "execution_count": 8,
   "metadata": {},
   "outputs": [],
   "source": [
    "TODAY = pd.Timestamp.today().date()\n",
    "TODAY_FILE = TODAY.strftime('%Y-%m-%d')"
   ]
  },
  {
   "cell_type": "code",
   "execution_count": 9,
   "metadata": {},
   "outputs": [
    {
     "data": {
      "text/plain": [
       "['smb.ini']"
      ]
     },
     "execution_count": 9,
     "metadata": {},
     "output_type": "execute_result"
    }
   ],
   "source": [
    "import configparser\n",
    "\n",
    "smbconfig = configparser.ConfigParser()\n",
    "smbconfig.read('smb.ini')\n",
    "\n",
    "path = smbconfig['shares']['Path']\n",
    "top = smbconfig['shares']['TopLvl']\n",
    "client_sys = smbconfig['shares']['Client']\n",
    "server_sys = smbconfig['shares']['Server']\n",
    "server_ip = smbconfig['shares']['ServerIP']\n",
    "share = smbconfig['shares']['Share']"
   ]
  },
  {
   "cell_type": "code",
   "execution_count": 10,
   "metadata": {},
   "outputs": [],
   "source": [
    "try:\n",
    "    conn = SMBConnection(usr_id, passwrd, client_sys, server_sys, domain='',\n",
    "                     use_ntlm_v2=True, sign_options=2, is_direct_tcp=False)\n",
    "    connected = conn.connect(server_ip, 139)\n",
    "except:\n",
    "    print('Zugriff auf SMB-share nicht möglich!')"
   ]
  },
  {
   "cell_type": "code",
   "execution_count": 11,
   "metadata": {},
   "outputs": [
    {
     "name": "stdout",
     "output_type": "stream",
     "text": [
      "Shares auf: centosvm01.intern.generica.net\n",
      "  Share[ 0 ] = print$\n",
      "### can not access the resource\n",
      "  Share[ 1 ] = users\n",
      "    Files on: centosvm01.intern.generica.net/  Share[ 1 ] = users\n",
      "    File[ 0 ] = .\n",
      "    File[ 1 ] = ..\n",
      "    File[ 2 ] = ThecusNAS\n",
      "    File[ 3 ] = Alfresco-Export\n",
      "    File[ 4 ] = 2019-07-18_Copy_ThecusNAS.txt\n",
      "    File[ 5 ] = 2019-07-18_Copy_AlfExport.txt\n",
      "    File[ 6 ] = Daten von LokalDaten\n",
      "  Share[ 2 ] = IPC$\n",
      "### can not access the resource\n"
     ]
    }
   ],
   "source": [
    "Response = conn.listShares(timeout=30)  # obtain a list of shares\n",
    "print('Shares auf: ' + server_sys)\n",
    "\n",
    "for i in range(len(Response)):  # iterate through the list of shares\n",
    "    print(\"  Share[\",i,\"] =\", Response[i].name)\n",
    "    try:\n",
    "        # list the files on each share\n",
    "        Response2 = conn.listPath(Response[i].name,'/',timeout=30)\n",
    "        print('    Files on: ' + server_sys + '/' + \"  Share[\",i,\"] =\", Response[i].name)\n",
    "        for i in range(len(Response2)):\n",
    "            print(\"    File[\",i,\"] =\", Response2[i].filename)\n",
    "    except:\n",
    "        print('### can not access the resource')"
   ]
  },
  {
   "cell_type": "code",
   "execution_count": null,
   "metadata": {},
   "outputs": [],
   "source": []
  },
  {
   "cell_type": "code",
   "execution_count": 12,
   "metadata": {},
   "outputs": [],
   "source": [
    "iptc_info_keys = ['object name', 'edit status', 'editorial update', 'urgency', 'subject reference',\n",
    "                  'category', 'supplemental category', 'fixture identifier', 'keywords',\n",
    "                  'content location code', 'content location name', 'release date', 'release time',\n",
    "                  'expiration date', 'expiration time', 'special instructions', 'action advised',\n",
    "                  'reference service', 'reference date', 'reference number', 'date created', 'time created',\n",
    "                  'digital creation date', 'digital creation time', 'originating program', 'program version',\n",
    "                  'object cycle', 'by-line', 'by-line title', 'city', 'sub-location', 'province/state',\n",
    "                  'country/primary location code', 'country/primary location name',\n",
    "                  'original transmission reference', 'headline', 'credit', 'source', 'copyright notice',\n",
    "                  'contact', 'caption/abstract', 'local caption', 'writer/editor', 'image type',\n",
    "                  'image orientation', 'language identifier', 'custom1', 'custom2', 'custom3', 'custom4',\n",
    "                  'custom5', 'custom6', 'custom7', 'custom8', 'custom9', 'custom10', 'custom11', 'custom12',\n",
    "                  'custom13', 'custom14', 'custom15', 'custom16', 'custom17', 'custom18', 'custom19', 'custom20']"
   ]
  },
  {
   "cell_type": "code",
   "execution_count": 13,
   "metadata": {},
   "outputs": [],
   "source": [
    "log_file = open(TODAY_FILE + '_log.txt', 'w', encoding='utf8')"
   ]
  },
  {
   "cell_type": "code",
   "execution_count": 14,
   "metadata": {},
   "outputs": [],
   "source": [
    "# single-dispatch generic function\n",
    "@singledispatch\n",
    "def decd(data):\n",
    "    return data.decode()\n",
    "\n",
    "@decd.register(str)\n",
    "def _(data):\n",
    "    return data"
   ]
  },
  {
   "cell_type": "code",
   "execution_count": 15,
   "metadata": {},
   "outputs": [],
   "source": [
    "def smbwalk(conn, share, top = u'/'):\n",
    "    \n",
    "    dirs, nondirs, file_ext, file_count = [], [], set(), 0\n",
    "    \n",
    "    if not isinstance(conn, SMBConnection):\n",
    "        raise TypeError(\"SMBConnection required\")\n",
    "        \n",
    "    names = conn.listPath(share, top)\n",
    "    \n",
    "    breaker = 0\n",
    "    \n",
    "    for name in names:\n",
    "        if name.isDirectory:\n",
    "            if name.filename not in [u'.', u'..']:\n",
    "                dirs.append(name.filename)\n",
    "        else:\n",
    "            filename, file_extension = os.path.splitext(name.filename)\n",
    "            path = top + '/' + name.filename\n",
    "            abs_path = 'smb://' + server_sys + '/' + share + '/' + top + '/'\n",
    "            log_file.write( 'Datei: ' + path + ', Extension: ' + file_extension + '\\n' )\n",
    "            # -------------- .ARW-part --------------\n",
    "            if any(file_extension in s for s in ['.ARW']):\n",
    "                scale_factor = 1200\n",
    "                for suff_ix in ['_bg', '_md', '_sm']:\n",
    "                    temp_arw_file = tempfile.NamedTemporaryFile(suffix=\".arw\")\n",
    "                    temp_jpg_file = tempfile.NamedTemporaryFile(suffix=\".jpg\")\n",
    "                    file_attributes, filesize = conn.retrieveFile(share, path, temp_arw_file, timeout=60)\n",
    "                    #\n",
    "                    # os.system(\"ffmpeg -i \\\"{0}\\\" -y -vf scale={1}:-1 {2}.jpg\".format(\n",
    "                    #    temp_arw_file.name, scale_factor, filename + suff_ix))\n",
    "                    #\n",
    "                    # os.system(\"convert \\\"arw:{0}\\\" -layers merge -resize {1} -define dng:use-camera-wb=true \\\n",
    "                    #          \\\"./tmp/{2}.jpg\\\"\".format(temp_arw_file.name, scale_factor, filename + suff_ix))\n",
    "                    #\n",
    "                    os.system(\"darktable-cli \\\"{0}\\\" \\\"{1}\\\" --width={2} --verbose\".format(\n",
    "                        temp_arw_file.name, temp_jpg_file, scale_factor))\n",
    "                    scale_factor = scale_factor - 500\n",
    "                    print(\"Moving {0} to {1}\".format(temp_jpg_file.name, abs_path + filename + suff_ix + '.jpg' ))\n",
    "                    shutil.move(os.path.abspath(temp_jpg_file.name), abs_path + filename + suff_ix + '.jpg')\n",
    "            # -------------- .jpg-part --------------\n",
    "            if any(file_extension in s for s in ['.jpg', '.JPG']):\n",
    "                file_obj = tempfile.NamedTemporaryFile()\n",
    "                file_attributes, filesize = conn.retrieveFile(share, path, file_obj, timeout=60)\n",
    "                # https://github.com/jamesacampbell/iptcinfo3\n",
    "                file_info = IPTCInfo(file_obj)\n",
    "                for key in iptc_info_keys:\n",
    "                    if file_info[key] is not None:\n",
    "                        if isinstance(file_info[key], list):\n",
    "                            for num, elem in enumerate(file_info[key], start=1):\n",
    "                                log_file.write( 'IPTC \\'' + key + '(' + str(num) + ')\\': ' +\n",
    "                                               decd(elem) + '\\n')\n",
    "                        else:\n",
    "                            log_file.write( 'IPTC \\'' + key + '\\': ' + decd(file_info[key]) + '\\n' )\n",
    "            log_file.write('Letzter Zugriff: ' + time.ctime(name.last_access_time) + '\\n' )\n",
    "            log_file.write('Letzte Änderung: ' + time.ctime(name.last_write_time) + '\\n' )\n",
    "            log_file.write('Letzte Attributsänderung: ' + time.ctime(name.last_attr_change_time) + '\\n' )\n",
    "            log_file.write('Dateigröße: ' + str(round(name.file_size/(1024*1024), 2)) + 'MB' + '\\n')\n",
    "            # log_file.write(os.popen(\"identify -verbose \\\"{0}\\\"\".format(\n",
    "            #        abs_path + name.filename)).read() + '\\n')\n",
    "            nondirs.append(name)\n",
    "            file_ext.add(file_extension)\n",
    "            file_count += 1\n",
    "            \n",
    "    # yielding top level directory incl. content\n",
    "    # yield top\n",
    "    # yield dirs\n",
    "    yield nondirs\n",
    "    yield file_ext\n",
    "    yield file_count\n",
    "    \n",
    "    for name in dirs:\n",
    "        new_path = os.path.join(top, name)\n",
    "        for directory in smbwalk(conn, share, new_path):\n",
    "            # yielding subdirectory inkl. content\n",
    "            yield directory"
   ]
  },
  {
   "cell_type": "code",
   "execution_count": 16,
   "metadata": {},
   "outputs": [],
   "source": [
    "log_file = open(TODAY_FILE + '_log.txt', 'w', encoding='utf8')"
   ]
  },
  {
   "cell_type": "code",
   "execution_count": 17,
   "metadata": {},
   "outputs": [
    {
     "name": "stdout",
     "output_type": "stream",
     "text": [
      "Moving /tmp/tmppsn212ul.jpg to smb://centosvm01.intern.generica.net/users/ThecusNAS/InHouse Produktfotos/sortiert/DSC00001_bg.jpg\n"
     ]
    },
    {
     "ename": "FileNotFoundError",
     "evalue": "[Errno 2] No such file or directory: 'smb://centosvm01.intern.generica.net/users/ThecusNAS/InHouse Produktfotos/sortiert/DSC00001_bg.jpg'",
     "output_type": "error",
     "traceback": [
      "\u001b[0;31m---------------------------------------------------------------------------\u001b[0m",
      "\u001b[0;31mFileNotFoundError\u001b[0m                         Traceback (most recent call last)",
      "\u001b[0;32m~/anaconda3/envs/bigdata/lib/python3.7/shutil.py\u001b[0m in \u001b[0;36mmove\u001b[0;34m(src, dst, copy_function)\u001b[0m\n\u001b[1;32m    565\u001b[0m     \u001b[0;32mtry\u001b[0m\u001b[0;34m:\u001b[0m\u001b[0;34m\u001b[0m\u001b[0;34m\u001b[0m\u001b[0m\n\u001b[0;32m--> 566\u001b[0;31m         \u001b[0mos\u001b[0m\u001b[0;34m.\u001b[0m\u001b[0mrename\u001b[0m\u001b[0;34m(\u001b[0m\u001b[0msrc\u001b[0m\u001b[0;34m,\u001b[0m \u001b[0mreal_dst\u001b[0m\u001b[0;34m)\u001b[0m\u001b[0;34m\u001b[0m\u001b[0;34m\u001b[0m\u001b[0m\n\u001b[0m\u001b[1;32m    567\u001b[0m     \u001b[0;32mexcept\u001b[0m \u001b[0mOSError\u001b[0m\u001b[0;34m:\u001b[0m\u001b[0;34m\u001b[0m\u001b[0;34m\u001b[0m\u001b[0m\n",
      "\u001b[0;31mFileNotFoundError\u001b[0m: [Errno 2] No such file or directory: '/tmp/tmppsn212ul.jpg' -> 'smb://centosvm01.intern.generica.net/users/ThecusNAS/InHouse Produktfotos/sortiert/DSC00001_bg.jpg'",
      "\nDuring handling of the above exception, another exception occurred:\n",
      "\u001b[0;31mFileNotFoundError\u001b[0m                         Traceback (most recent call last)",
      "\u001b[0;32m<ipython-input-17-baeab543d659>\u001b[0m in \u001b[0;36m<module>\u001b[0;34m\u001b[0m\n\u001b[1;32m      3\u001b[0m \u001b[0;34m\u001b[0m\u001b[0m\n\u001b[1;32m      4\u001b[0m \u001b[0;34m\u001b[0m\u001b[0m\n\u001b[0;32m----> 5\u001b[0;31m \u001b[0;32mfor\u001b[0m \u001b[0melem\u001b[0m \u001b[0;32min\u001b[0m \u001b[0msmbwalk\u001b[0m\u001b[0;34m(\u001b[0m\u001b[0mconn\u001b[0m\u001b[0;34m,\u001b[0m \u001b[0mshare\u001b[0m\u001b[0;34m,\u001b[0m \u001b[0mtop\u001b[0m\u001b[0;34m)\u001b[0m\u001b[0;34m:\u001b[0m\u001b[0;34m\u001b[0m\u001b[0;34m\u001b[0m\u001b[0m\n\u001b[0m\u001b[1;32m      6\u001b[0m     \u001b[0;32mif\u001b[0m \u001b[0misinstance\u001b[0m\u001b[0;34m(\u001b[0m\u001b[0melem\u001b[0m\u001b[0;34m,\u001b[0m \u001b[0mlist\u001b[0m\u001b[0;34m)\u001b[0m\u001b[0;34m:\u001b[0m\u001b[0;34m\u001b[0m\u001b[0;34m\u001b[0m\u001b[0m\n\u001b[1;32m      7\u001b[0m         \u001b[0;32mfor\u001b[0m \u001b[0mx\u001b[0m \u001b[0;32min\u001b[0m \u001b[0melem\u001b[0m\u001b[0;34m:\u001b[0m\u001b[0;34m\u001b[0m\u001b[0;34m\u001b[0m\u001b[0m\n",
      "\u001b[0;32m<ipython-input-15-f54b1aeac552>\u001b[0m in \u001b[0;36msmbwalk\u001b[0;34m(conn, share, top)\u001b[0m\n\u001b[1;32m     37\u001b[0m                     \u001b[0mscale_factor\u001b[0m \u001b[0;34m=\u001b[0m \u001b[0mscale_factor\u001b[0m \u001b[0;34m-\u001b[0m \u001b[0;36m500\u001b[0m\u001b[0;34m\u001b[0m\u001b[0;34m\u001b[0m\u001b[0m\n\u001b[1;32m     38\u001b[0m                     \u001b[0mprint\u001b[0m\u001b[0;34m(\u001b[0m\u001b[0;34m\"Moving {0} to {1}\"\u001b[0m\u001b[0;34m.\u001b[0m\u001b[0mformat\u001b[0m\u001b[0;34m(\u001b[0m\u001b[0mtemp_jpg_file\u001b[0m\u001b[0;34m.\u001b[0m\u001b[0mname\u001b[0m\u001b[0;34m,\u001b[0m \u001b[0mabs_path\u001b[0m \u001b[0;34m+\u001b[0m \u001b[0mfilename\u001b[0m \u001b[0;34m+\u001b[0m \u001b[0msuff_ix\u001b[0m \u001b[0;34m+\u001b[0m \u001b[0;34m'.jpg'\u001b[0m \u001b[0;34m)\u001b[0m\u001b[0;34m)\u001b[0m\u001b[0;34m\u001b[0m\u001b[0;34m\u001b[0m\u001b[0m\n\u001b[0;32m---> 39\u001b[0;31m                     \u001b[0mshutil\u001b[0m\u001b[0;34m.\u001b[0m\u001b[0mmove\u001b[0m\u001b[0;34m(\u001b[0m\u001b[0mos\u001b[0m\u001b[0;34m.\u001b[0m\u001b[0mpath\u001b[0m\u001b[0;34m.\u001b[0m\u001b[0mabspath\u001b[0m\u001b[0;34m(\u001b[0m\u001b[0mtemp_jpg_file\u001b[0m\u001b[0;34m.\u001b[0m\u001b[0mname\u001b[0m\u001b[0;34m)\u001b[0m\u001b[0;34m,\u001b[0m \u001b[0mabs_path\u001b[0m \u001b[0;34m+\u001b[0m \u001b[0mfilename\u001b[0m \u001b[0;34m+\u001b[0m \u001b[0msuff_ix\u001b[0m \u001b[0;34m+\u001b[0m \u001b[0;34m'.jpg'\u001b[0m\u001b[0;34m)\u001b[0m\u001b[0;34m\u001b[0m\u001b[0;34m\u001b[0m\u001b[0m\n\u001b[0m\u001b[1;32m     40\u001b[0m             \u001b[0;31m# -------------- .jpg-part --------------\u001b[0m\u001b[0;34m\u001b[0m\u001b[0;34m\u001b[0m\u001b[0;34m\u001b[0m\u001b[0m\n\u001b[1;32m     41\u001b[0m             \u001b[0;32mif\u001b[0m \u001b[0many\u001b[0m\u001b[0;34m(\u001b[0m\u001b[0mfile_extension\u001b[0m \u001b[0;32min\u001b[0m \u001b[0ms\u001b[0m \u001b[0;32mfor\u001b[0m \u001b[0ms\u001b[0m \u001b[0;32min\u001b[0m \u001b[0;34m[\u001b[0m\u001b[0;34m'.jpg'\u001b[0m\u001b[0;34m,\u001b[0m \u001b[0;34m'.JPG'\u001b[0m\u001b[0;34m]\u001b[0m\u001b[0;34m)\u001b[0m\u001b[0;34m:\u001b[0m\u001b[0;34m\u001b[0m\u001b[0;34m\u001b[0m\u001b[0m\n",
      "\u001b[0;32m~/anaconda3/envs/bigdata/lib/python3.7/shutil.py\u001b[0m in \u001b[0;36mmove\u001b[0;34m(src, dst, copy_function)\u001b[0m\n\u001b[1;32m    578\u001b[0m             \u001b[0mrmtree\u001b[0m\u001b[0;34m(\u001b[0m\u001b[0msrc\u001b[0m\u001b[0;34m)\u001b[0m\u001b[0;34m\u001b[0m\u001b[0;34m\u001b[0m\u001b[0m\n\u001b[1;32m    579\u001b[0m         \u001b[0;32melse\u001b[0m\u001b[0;34m:\u001b[0m\u001b[0;34m\u001b[0m\u001b[0;34m\u001b[0m\u001b[0m\n\u001b[0;32m--> 580\u001b[0;31m             \u001b[0mcopy_function\u001b[0m\u001b[0;34m(\u001b[0m\u001b[0msrc\u001b[0m\u001b[0;34m,\u001b[0m \u001b[0mreal_dst\u001b[0m\u001b[0;34m)\u001b[0m\u001b[0;34m\u001b[0m\u001b[0;34m\u001b[0m\u001b[0m\n\u001b[0m\u001b[1;32m    581\u001b[0m             \u001b[0mos\u001b[0m\u001b[0;34m.\u001b[0m\u001b[0munlink\u001b[0m\u001b[0;34m(\u001b[0m\u001b[0msrc\u001b[0m\u001b[0;34m)\u001b[0m\u001b[0;34m\u001b[0m\u001b[0;34m\u001b[0m\u001b[0m\n\u001b[1;32m    582\u001b[0m     \u001b[0;32mreturn\u001b[0m \u001b[0mreal_dst\u001b[0m\u001b[0;34m\u001b[0m\u001b[0;34m\u001b[0m\u001b[0m\n",
      "\u001b[0;32m~/anaconda3/envs/bigdata/lib/python3.7/shutil.py\u001b[0m in \u001b[0;36mcopy2\u001b[0;34m(src, dst, follow_symlinks)\u001b[0m\n\u001b[1;32m    264\u001b[0m     \u001b[0;32mif\u001b[0m \u001b[0mos\u001b[0m\u001b[0;34m.\u001b[0m\u001b[0mpath\u001b[0m\u001b[0;34m.\u001b[0m\u001b[0misdir\u001b[0m\u001b[0;34m(\u001b[0m\u001b[0mdst\u001b[0m\u001b[0;34m)\u001b[0m\u001b[0;34m:\u001b[0m\u001b[0;34m\u001b[0m\u001b[0;34m\u001b[0m\u001b[0m\n\u001b[1;32m    265\u001b[0m         \u001b[0mdst\u001b[0m \u001b[0;34m=\u001b[0m \u001b[0mos\u001b[0m\u001b[0;34m.\u001b[0m\u001b[0mpath\u001b[0m\u001b[0;34m.\u001b[0m\u001b[0mjoin\u001b[0m\u001b[0;34m(\u001b[0m\u001b[0mdst\u001b[0m\u001b[0;34m,\u001b[0m \u001b[0mos\u001b[0m\u001b[0;34m.\u001b[0m\u001b[0mpath\u001b[0m\u001b[0;34m.\u001b[0m\u001b[0mbasename\u001b[0m\u001b[0;34m(\u001b[0m\u001b[0msrc\u001b[0m\u001b[0;34m)\u001b[0m\u001b[0;34m)\u001b[0m\u001b[0;34m\u001b[0m\u001b[0;34m\u001b[0m\u001b[0m\n\u001b[0;32m--> 266\u001b[0;31m     \u001b[0mcopyfile\u001b[0m\u001b[0;34m(\u001b[0m\u001b[0msrc\u001b[0m\u001b[0;34m,\u001b[0m \u001b[0mdst\u001b[0m\u001b[0;34m,\u001b[0m \u001b[0mfollow_symlinks\u001b[0m\u001b[0;34m=\u001b[0m\u001b[0mfollow_symlinks\u001b[0m\u001b[0;34m)\u001b[0m\u001b[0;34m\u001b[0m\u001b[0;34m\u001b[0m\u001b[0m\n\u001b[0m\u001b[1;32m    267\u001b[0m     \u001b[0mcopystat\u001b[0m\u001b[0;34m(\u001b[0m\u001b[0msrc\u001b[0m\u001b[0;34m,\u001b[0m \u001b[0mdst\u001b[0m\u001b[0;34m,\u001b[0m \u001b[0mfollow_symlinks\u001b[0m\u001b[0;34m=\u001b[0m\u001b[0mfollow_symlinks\u001b[0m\u001b[0;34m)\u001b[0m\u001b[0;34m\u001b[0m\u001b[0;34m\u001b[0m\u001b[0m\n\u001b[1;32m    268\u001b[0m     \u001b[0;32mreturn\u001b[0m \u001b[0mdst\u001b[0m\u001b[0;34m\u001b[0m\u001b[0;34m\u001b[0m\u001b[0m\n",
      "\u001b[0;32m~/anaconda3/envs/bigdata/lib/python3.7/shutil.py\u001b[0m in \u001b[0;36mcopyfile\u001b[0;34m(src, dst, follow_symlinks)\u001b[0m\n\u001b[1;32m    119\u001b[0m     \u001b[0;32melse\u001b[0m\u001b[0;34m:\u001b[0m\u001b[0;34m\u001b[0m\u001b[0;34m\u001b[0m\u001b[0m\n\u001b[1;32m    120\u001b[0m         \u001b[0;32mwith\u001b[0m \u001b[0mopen\u001b[0m\u001b[0;34m(\u001b[0m\u001b[0msrc\u001b[0m\u001b[0;34m,\u001b[0m \u001b[0;34m'rb'\u001b[0m\u001b[0;34m)\u001b[0m \u001b[0;32mas\u001b[0m \u001b[0mfsrc\u001b[0m\u001b[0;34m:\u001b[0m\u001b[0;34m\u001b[0m\u001b[0;34m\u001b[0m\u001b[0m\n\u001b[0;32m--> 121\u001b[0;31m             \u001b[0;32mwith\u001b[0m \u001b[0mopen\u001b[0m\u001b[0;34m(\u001b[0m\u001b[0mdst\u001b[0m\u001b[0;34m,\u001b[0m \u001b[0;34m'wb'\u001b[0m\u001b[0;34m)\u001b[0m \u001b[0;32mas\u001b[0m \u001b[0mfdst\u001b[0m\u001b[0;34m:\u001b[0m\u001b[0;34m\u001b[0m\u001b[0;34m\u001b[0m\u001b[0m\n\u001b[0m\u001b[1;32m    122\u001b[0m                 \u001b[0mcopyfileobj\u001b[0m\u001b[0;34m(\u001b[0m\u001b[0mfsrc\u001b[0m\u001b[0;34m,\u001b[0m \u001b[0mfdst\u001b[0m\u001b[0;34m)\u001b[0m\u001b[0;34m\u001b[0m\u001b[0;34m\u001b[0m\u001b[0m\n\u001b[1;32m    123\u001b[0m     \u001b[0;32mreturn\u001b[0m \u001b[0mdst\u001b[0m\u001b[0;34m\u001b[0m\u001b[0;34m\u001b[0m\u001b[0m\n",
      "\u001b[0;31mFileNotFoundError\u001b[0m: [Errno 2] No such file or directory: 'smb://centosvm01.intern.generica.net/users/ThecusNAS/InHouse Produktfotos/sortiert/DSC00001_bg.jpg'"
     ]
    }
   ],
   "source": [
    "files_count = 0\n",
    "file_extensions = set()\n",
    "\n",
    "\n",
    "for elem in smbwalk(conn, share, top):\n",
    "    if isinstance(elem, list):\n",
    "        for x in elem:\n",
    "            filename, delimiter, file_extension = x.filename.rpartition('.')\n",
    "            # ToDo: do something with files in dir-list\n",
    "\n",
    "    if isinstance(elem, set):\n",
    "        file_extensions.update(elem)\n",
    "    if isinstance(elem, int):\n",
    "        files_count = files_count + elem"
   ]
  },
  {
   "cell_type": "code",
   "execution_count": null,
   "metadata": {},
   "outputs": [],
   "source": [
    "log_summary = open(TODAY_FILE + '_summary.txt', 'w+')"
   ]
  },
  {
   "cell_type": "code",
   "execution_count": null,
   "metadata": {},
   "outputs": [],
   "source": [
    "log_summary.write(str(file_extensions) + '\\n')\n",
    "log_summary.write(str(files_count) + '\\n')"
   ]
  },
  {
   "cell_type": "code",
   "execution_count": null,
   "metadata": {},
   "outputs": [],
   "source": [
    "log_file.close()\n",
    "log_summary.close()\n",
    "conn.close()"
   ]
  },
  {
   "cell_type": "code",
   "execution_count": null,
   "metadata": {},
   "outputs": [],
   "source": []
  },
  {
   "cell_type": "code",
   "execution_count": null,
   "metadata": {},
   "outputs": [],
   "source": []
  }
 ],
 "metadata": {
  "kernelspec": {
   "display_name": "Python 3",
   "language": "python",
   "name": "python3"
  },
  "language_info": {
   "codemirror_mode": {
    "name": "ipython",
    "version": 3
   },
   "file_extension": ".py",
   "mimetype": "text/x-python",
   "name": "python",
   "nbconvert_exporter": "python",
   "pygments_lexer": "ipython3",
   "version": "3.7.6"
  }
 },
 "nbformat": 4,
 "nbformat_minor": 4
}
